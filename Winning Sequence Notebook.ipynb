{
 "cells": [
  {
   "cell_type": "code",
   "execution_count": 1,
   "id": "32dd0ffb",
   "metadata": {},
   "outputs": [],
   "source": [
    "import numpy as np\n",
    "import pandas as pd\n",
    "import math\n",
    "import string\n",
    "import random"
   ]
  },
  {
   "cell_type": "code",
   "execution_count": 2,
   "id": "efaee692",
   "metadata": {},
   "outputs": [],
   "source": [
    "# cds = [\"Ac\",\"Ki\",\"Qu\",\"Ja\",\"Te\",\"Ni\",\"Ei\",\"Se\",\"Si\",\"Fi\",\"Fo\",\"Th\",\"Tw\",\"Ac\"]\n",
    "cds = [\"Ac\",\"Ki\",\"Qu\",\"Ja\",\"Te\",\"Ni\",\"Ei\",\"Se\",\"Si\",\"Fi\",\"Fo\",\"Th\",\"Tw\",\"Ac\"]\n",
    "suits = [\"Sp\",\"He\",\"Di\",\"Cl\"]"
   ]
  },
  {
   "cell_type": "code",
   "execution_count": 3,
   "id": "80b76455",
   "metadata": {},
   "outputs": [],
   "source": [
    "# Check pure for all P&Cs\n",
    "\n",
    "ls_seq = []\n",
    "for i in range(len(cds)-2):\n",
    "    f = cds[i]\n",
    "    s = cds[i+1]\n",
    "    t = cds[i+2]\n",
    "    ls_seq.append(f+\"-\"+s+\"-\"+t)\n",
    "    ls_seq.append(f+\"-\"+t+\"-\"+s)    \n",
    "    ls_seq.append(t+\"-\"+s+\"-\"+f)    \n",
    "    ls_seq.append(t+\"-\"+f+\"-\"+s)    \n",
    "    ls_seq.append(s+\"-\"+f+\"-\"+t)    \n",
    "    ls_seq.append(s+\"-\"+t+\"-\"+f)    "
   ]
  },
  {
   "cell_type": "code",
   "execution_count": 4,
   "id": "9d780347",
   "metadata": {},
   "outputs": [],
   "source": [
    "# Pure Sequences with suits\n",
    "\n",
    "ls_pure_seq = []\n",
    "combos = [[0,1,2],[0,2,1],[1,2,0],[1,0,2],[2,1,0],[2,0,1]]\n",
    "\n",
    "for i in range(0, len(cds)-2,1):\n",
    "    for j in range(len(suits)):\n",
    "        ls_pure_seq.append(cds[i]+\"-\"+suits[j]+\" \"+cds[i+1]+\"-\"+suits[j]+\" \"+cds[i+2]+\"-\"+suits[j])\n",
    "        ls_pure_seq.append(cds[i]+\"-\"+suits[j]+\" \"+cds[i+2]+\"-\"+suits[j]+\" \"+cds[i+1]+\"-\"+suits[j])        \n",
    "        ls_pure_seq.append(cds[i+1]+\"-\"+suits[j]+\" \"+cds[i+2]+\"-\"+suits[j]+\" \"+cds[i]+\"-\"+suits[j])        \n",
    "        ls_pure_seq.append(cds[i+1]+\"-\"+suits[j]+\" \"+cds[i]+\"-\"+suits[j]+\" \"+cds[i+2]+\"-\"+suits[j])        \n",
    "        ls_pure_seq.append(cds[i+2]+\"-\"+suits[j]+\" \"+cds[i+1]+\"-\"+suits[j]+\" \"+cds[i]+\"-\"+suits[j])        \n",
    "        ls_pure_seq.append(cds[i+2]+\"-\"+suits[j]+\" \"+cds[i]+\"-\"+suits[j]+\" \"+cds[i+1]+\"-\"+suits[j])        "
   ]
  },
  {
   "cell_type": "code",
   "execution_count": 5,
   "id": "ab51019a",
   "metadata": {},
   "outputs": [],
   "source": [
    "def check_tr(t_cds):  ## All testcases passed\n",
    "    temp = t_cds.split(\" \")\n",
    "    f = temp[0].split(\"-\")[0]\n",
    "    s = temp[1].split(\"-\")[0]  \n",
    "    t = temp[2].split(\"-\")[0]  \n",
    "    \n",
    "    if(f==s==t): \n",
    "        return cds.index(f)\n",
    "    else:\n",
    "        return -1"
   ]
  },
  {
   "cell_type": "code",
   "execution_count": 6,
   "id": "5263cc76",
   "metadata": {},
   "outputs": [],
   "source": [
    "def check_seq(t_cds):  ## All testcases passed\n",
    "    temp = t_cds.split(\" \")\n",
    "    f = temp[0].split(\"-\")[0]\n",
    "    s = temp[1].split(\"-\")[0]  \n",
    "    t = temp[2].split(\"-\")[0]  \n",
    "    s1 = temp[0].split(\"-\")[1]\n",
    "    s2 = temp[1].split(\"-\")[1]  \n",
    "    s3 = temp[2].split(\"-\")[1] \n",
    "    combined = f+\"-\"+s+\"-\"+t\n",
    "    \n",
    "    if(combined in ls_seq):\n",
    "        if((s1 == s2 == s3)):\n",
    "            return (ls_pure_seq.index(t_cds), \"pure\")\n",
    "        else:\n",
    "            return (ls_seq.index(f+\"-\"+s+\"-\"+t), \"seq\")\n",
    "    else:\n",
    "        return -1"
   ]
  },
  {
   "cell_type": "code",
   "execution_count": 7,
   "id": "437b6917",
   "metadata": {},
   "outputs": [],
   "source": [
    "def check_colo(t_cds):\n",
    "    temp = t_cds.split(\" \")\n",
    "    s1 = temp[0].split(\"-\")[1]\n",
    "    s2 = temp[1].split(\"-\")[1]  \n",
    "    s3 = temp[2].split(\"-\")[1]\n",
    "    index = suits.index(s1)\n",
    "    high_index = get_hi(t_cds)\n",
    "    if(s1 == s2 == s3):\n",
    "        return (index, high_index)\n",
    "    else:\n",
    "        return -1"
   ]
  },
  {
   "cell_type": "code",
   "execution_count": 8,
   "id": "6b97a852",
   "metadata": {},
   "outputs": [],
   "source": [
    "def check_du(t_cds):  ## All testcases passed\n",
    "    temp = t_cds.split(\" \")\n",
    "    f = temp[0].split(\"-\")[0]\n",
    "    s = temp[1].split(\"-\")[0]  \n",
    "    t = temp[2].split(\"-\")[0]  \n",
    "    \n",
    "    if(f == s and t !=s and t != f):\n",
    "        return cds.index(f)\n",
    "    elif(s == t and f != s and f != t):\n",
    "        return cds.index(s)\n",
    "    elif(t == f and s != f and s != t):\n",
    "        return cds.index(t)\n",
    "    else:\n",
    "        return -1"
   ]
  },
  {
   "cell_type": "code",
   "execution_count": 9,
   "id": "51fe6cf3",
   "metadata": {},
   "outputs": [],
   "source": [
    "def get_hi(t_cds): ## All testcases passed\n",
    "    cds = [\"Ac\",\"Ki\",\"Qu\",\"Ja\",\"Te\",\"Ni\",\"Ei\",\"Se\",\"Si\",\"Fi\",\"Fo\",\"Th\",\"Tw\"]\n",
    "    temp = t_cds.split(\" \")\n",
    "    f = temp[0].split(\"-\")[0]\n",
    "    s = temp[1].split(\"-\")[0]  \n",
    "    t = temp[2].split(\"-\")[0]\n",
    "    fi = cds.index(f)\n",
    "    si = cds.index(s)\n",
    "    ti = cds.index(t)\n",
    "    least = min([fi,si,ti])\n",
    "    return(least)"
   ]
  },
  {
   "cell_type": "code",
   "execution_count": 10,
   "id": "dca919f0",
   "metadata": {},
   "outputs": [],
   "source": [
    "def get_sec_hi(t_cds): ## All testcases passed\n",
    "    cds = [\"Ac\",\"Ki\",\"Qu\",\"Ja\",\"Te\",\"Ni\",\"Ei\",\"Se\",\"Si\",\"Fi\",\"Fo\",\"Th\",\"Tw\"]\n",
    "    temp = t_cds.split(\" \")\n",
    "    f = temp[0].split(\"-\")[0]\n",
    "    s = temp[1].split(\"-\")[0]  \n",
    "    t = temp[2].split(\"-\")[0]\n",
    "    fi = cds.index(f)\n",
    "    si = cds.index(s)\n",
    "    ti = cds.index(t)\n",
    "    least = min([fi,si,ti])\n",
    "    if(f == cds[least]):\n",
    "        least = min([si,ti])\n",
    "        return (least)\n",
    "    elif(s == cds[least]):\n",
    "        least = min([fi,ti])\n",
    "        return (least)\n",
    "    elif(t == cds[least]):\n",
    "        least = min([fi,si])\n",
    "        return (least)"
   ]
  },
  {
   "cell_type": "code",
   "execution_count": 11,
   "id": "f91b761f",
   "metadata": {},
   "outputs": [],
   "source": [
    "def get_thi_hi(t_cds):  ## All testcases passed\n",
    "    cds = [\"Ac\",\"Ki\",\"Qu\",\"Ja\",\"Te\",\"Ni\",\"Ei\",\"Se\",\"Si\",\"Fi\",\"Fo\",\"Th\",\"Tw\"]\n",
    "    temp = t_cds.split(\" \")\n",
    "    f = temp[0].split(\"-\")[0]\n",
    "    s = temp[1].split(\"-\")[0]  \n",
    "    t = temp[2].split(\"-\")[0]\n",
    "    fi = cds.index(f)\n",
    "    si = cds.index(s)\n",
    "    ti = cds.index(t)\n",
    "    highest = max([fi,si,ti])\n",
    "    return (highest)"
   ]
  },
  {
   "cell_type": "code",
   "execution_count": 12,
   "id": "2345e516",
   "metadata": {},
   "outputs": [],
   "source": [
    "def others(t_cds):\n",
    "    cds = [\"Ac\",\"Ki\",\"Qu\",\"Ja\",\"Te\",\"Ni\",\"Ei\",\"Se\",\"Si\",\"Fi\",\"Fo\",\"Th\",\"Tw\"]\n",
    "    get_f = get_hi(t_cds)\n",
    "    get_s = get_sec_hi(t_cds)\n",
    "    get_t = get_thi_hi(t_cds)\n",
    "    summ = int(get_f)*100+int(get_s)*10+int(get_t)\n",
    "    return(summ)"
   ]
  },
  {
   "cell_type": "code",
   "execution_count": 13,
   "id": "8d12eb6b",
   "metadata": {},
   "outputs": [],
   "source": [
    "# def multiplayers(ls_names, ls_cards):\n",
    "#     num_players = len(ls_names)\n",
    "#     print(num_players)\n",
    "#     for i in range(num_players):\n",
    "#         current_cards = ls_cards[i]\n",
    "#         if(check_tr(current_cards) != -1):\n",
    "#             ls_trio.append([current_cards, check_tr(current_cards)])\n",
    "#         elif(check_seq(current_cards) != -1):\n",
    "#             answer = check_seq(current_cards)\n",
    "#             if(answer[1] == \"pure\"):\n",
    "#                 lss_pure_seq.append([current_cards, answer[0]])\n",
    "#             elif(answer[1] == \"seq\"):\n",
    "#                 lss_seq.append([current_cards, answer[0]])\n",
    "#         elif(check_colo(current_cards) != -1):\n",
    "#             ls_color.append([current_cards,check_colo(current_cards)[0],check_colo(current_cards)[1]])\n",
    "#         elif(check_du(current_cards) != -1):\n",
    "#             ls_duo.append([current_cards,check_du(current_cards)])\n",
    "#         else:\n",
    "#             ls_others.append([current_cards,others(current_cards)])"
   ]
  },
  {
   "cell_type": "code",
   "execution_count": 14,
   "id": "0ecc7fd9",
   "metadata": {},
   "outputs": [],
   "source": [
    "import numpy as np\n",
    "import pandas as pd\n",
    "import random  ## Imported for calling the shuffle function\n",
    "\n",
    "def one_pack():\n",
    "    ls = []\n",
    "    card_names = [\"Ac\",\"Ki\",\"Qu\",\"Ja\",\"Te\",\"Ni\",\"Ei\",\"Se\",\"Si\",\"Fi\",\"Fo\",\"Th\",\"Tw\",\"Ac\"]  ## All card names in a list\n",
    "    card_types = [\"Sp\",\"He\",\"Di\",\"Cl\"]  ## All card types in a list\n",
    "\n",
    "    for i in range(len(card_names)):  ## Creating all card permutations\n",
    "        for j in range(len(card_types)):\n",
    "            ls.append(card_names[i]+\"-\"+card_types[j])  ## List ls has all cards in it\n",
    "\n",
    "    random.shuffle(ls)  ## Shuffling the deck of cards\n",
    "\n",
    "    return ls\n",
    "\n",
    "def dealCards(num_players, num_packs=1):  ## num_players : number of players playing in the room, num_packs : number of packs user wants the dealer to use\n",
    "    \n",
    "    # Creating the player cards list to keep record of each player's cards which is initialised as [[],[],[],.....n(being the number of players)]\n",
    "    \n",
    "    player_cards = []\n",
    "    for i in range(num_players):\n",
    "        player_cards.append([])\n",
    "\n",
    "    \n",
    "    cards = one_pack()  ## Calling the pack of cards for the dealer\n",
    "\n",
    "    random.shuffle(cards)  ## Shuffling the cards\n",
    "\n",
    "    for i in range(num_players):\n",
    "        temp_str = \"\"  ## Number of cards for each player\n",
    "        for j in range(0,3):  ## One by one card for each player as done by dealer in real life\n",
    "            if(j != 2):\n",
    "                temp_str += cards[0]+\" \"\n",
    "                cards.pop(0)\n",
    "            else:\n",
    "                temp_str += cards[0]\n",
    "                cards.pop(0)\n",
    "        player_cards[i].append(temp_str)\n",
    "            \n",
    "\n",
    "    return player_cards"
   ]
  },
  {
   "cell_type": "code",
   "execution_count": 15,
   "id": "8fe206c8",
   "metadata": {},
   "outputs": [],
   "source": [
    "ls_names = ['Player 1', 'Player 2', 'Player 3', 'Player 4', 'Player 5', 'Player 6', 'Player 7', 'Player 8', 'Player 9', 'Player 10']\n",
    "ls_cards = dealCards(10)\n",
    "abba = []\n",
    "for i in ls_cards:\n",
    "    abba.append(i[0])\n",
    "ls_cards = abba"
   ]
  },
  {
   "cell_type": "code",
   "execution_count": 16,
   "id": "fb269132",
   "metadata": {},
   "outputs": [],
   "source": [
    "ls_trio = []\n",
    "lss_pure_seq = []\n",
    "lss_seq = []\n",
    "ls_color = []\n",
    "ls_duo = []\n",
    "ls_others = []\n",
    "def check_winners(ls_names1, ls_cards1):   \n",
    "    num_players = len(ls_names1)\n",
    "    for i in range(num_players):\n",
    "        current_cards = ls_cards1[i]\n",
    "        if(check_tr(current_cards) != -1):\n",
    "            ls_trio.append([current_cards, check_tr(current_cards)])\n",
    "        elif(check_seq(current_cards) != -1):\n",
    "            answer = check_seq(current_cards)\n",
    "            if(answer[1] == \"pure\"):\n",
    "                lss_pure_seq.append([current_cards, answer[0]])\n",
    "            elif(answer[1] == \"seq\"):\n",
    "                lss_seq.append([current_cards, answer[0]])\n",
    "        elif(check_colo(current_cards) != -1):\n",
    "            ls_color.append([current_cards,check_colo(current_cards)[0],check_colo(current_cards)[1]])\n",
    "        elif(check_du(current_cards) != -1):\n",
    "            ls_duo.append([current_cards,check_du(current_cards)])\n",
    "        else:\n",
    "            ls_others.append([current_cards,others(current_cards)])\n",
    "    \n",
    "    ls_trio.sort(key = lambda x: x[1])\n",
    "    lss_pure_seq.sort(key = lambda x: x[1])\n",
    "    lss_seq.sort(key = lambda x: x[1])\n",
    "    ls_color.sort(key = lambda x: (x[1],x[2]))\n",
    "    ls_duo.sort(key = lambda x: x[1])\n",
    "    ls_others.sort(key = lambda x: x[1])\n",
    "    \n",
    "    \n",
    "    if(len(ls_trio) != 0):\n",
    "        print(ls_names1[ls_cards1.index(ls_trio[0][0])],\"Trio\")\n",
    "    elif(len(lss_pure_seq)!= 0):\n",
    "        print(ls_names1[ls_cards1.index(lss_pure_seq[0][0])],\"Pure Sequence\")\n",
    "    elif(len(lss_seq) != 0):\n",
    "        print(ls_names1[ls_cards1.index(lss_seq[0][0])], \"Sequence\")\n",
    "    elif(len(ls_color) != 0):\n",
    "        print(ls_names1[ls_cards1.index(ls_color[0][0])], \"Color\")\n",
    "    elif(len(ls_duo) != 0):\n",
    "        print(ls_names1[ls_cards1.index(ls_duo[0][0])], \"Duo\")\n",
    "    else:\n",
    "        print(ls_names1[ls_cards1.index(ls_others[0][0])], \"Highest Card\")    "
   ]
  },
  {
   "cell_type": "code",
   "execution_count": 17,
   "id": "cc8a17ef",
   "metadata": {},
   "outputs": [
    {
     "name": "stdout",
     "output_type": "stream",
     "text": [
      "Player 9 Sequence\n"
     ]
    }
   ],
   "source": [
    "check_winners(ls_names,ls_cards)"
   ]
  },
  {
   "cell_type": "code",
   "execution_count": 18,
   "id": "fb45f848",
   "metadata": {},
   "outputs": [
    {
     "name": "stdout",
     "output_type": "stream",
     "text": [
      "Player 1 Ei-Sp Ei-Cl Fi-He Duo\n",
      "Player 2 Te-Di Tw-Cl Ac-Sp Highest Card\n",
      "Player 3 Th-Di Ni-Cl Ni-Sp Duo\n",
      "Player 4 Ac-He Ac-Cl Ei-He Duo\n",
      "Player 5 Ac-Di Ac-Sp Fo-Sp Duo\n",
      "Player 6 Fi-Di Ki-Sp Fi-Sp Duo\n",
      "Player 7 Ac-Cl Ac-He Ja-Sp Duo\n",
      "Player 8 Fo-He Se-Sp Qu-Cl Highest Card\n",
      "Player 9 Ki-Di Ja-Cl Qu-Sp Sequence\n",
      "Player 10 Te-Sp Ni-Di Te-He Duo\n"
     ]
    }
   ],
   "source": [
    "for i in range(len(ls_names)):\n",
    "    current_cd = ls_cards[i]\n",
    "    for j in range(len(ls_trio)):\n",
    "        if(current_cd == ls_trio[j][0]):\n",
    "            print(ls_names[i],ls_cards[i],\"Trio\")\n",
    "            break\n",
    "    for j in range(len(lss_pure_seq)):\n",
    "        if(current_cd == lss_pure_seq[j][0]):\n",
    "            print(ls_names[i],ls_cards[i],\"Pure Sequence\")\n",
    "            break\n",
    "    for j in range(len(lss_seq)):\n",
    "        if(current_cd == lss_seq[j][0]):\n",
    "            print(ls_names[i],ls_cards[i],\"Sequence\")\n",
    "            break\n",
    "    for j in range(len(ls_color)):\n",
    "        if(current_cd == ls_color[j][0]):\n",
    "            print(ls_names[i],ls_cards[i],\"Color\")\n",
    "            break\n",
    "    for j in range(len(ls_duo)):\n",
    "        if(current_cd == ls_duo[j][0]):\n",
    "            print(ls_names[i],ls_cards[i],\"Duo\")\n",
    "            break\n",
    "    for j in range(len(ls_others)):\n",
    "        if(current_cd == ls_others[j][0]):\n",
    "            print(ls_names[i],ls_cards[i],\"Highest Card\")\n",
    "            break"
   ]
  },
  {
   "cell_type": "code",
   "execution_count": null,
   "id": "cee55e56",
   "metadata": {},
   "outputs": [],
   "source": []
  }
 ],
 "metadata": {
  "kernelspec": {
   "display_name": "Python 3 (ipykernel)",
   "language": "python",
   "name": "python3"
  },
  "language_info": {
   "codemirror_mode": {
    "name": "ipython",
    "version": 3
   },
   "file_extension": ".py",
   "mimetype": "text/x-python",
   "name": "python",
   "nbconvert_exporter": "python",
   "pygments_lexer": "ipython3",
   "version": "3.10.2"
  }
 },
 "nbformat": 4,
 "nbformat_minor": 5
}
